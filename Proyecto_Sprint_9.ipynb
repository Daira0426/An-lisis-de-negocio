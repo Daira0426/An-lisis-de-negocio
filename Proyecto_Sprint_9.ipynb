{
 "cells": [
  {
   "cell_type": "markdown",
   "metadata": {},
   "source": [
    "# Sprint 9 - Proyecto"
   ]
  },
  {
   "cell_type": "markdown",
   "metadata": {},
   "source": [
    "**Descripción del proyecto**\n",
    "\n",
    "Lo has hecho de maravilla en el curso de TripleTen y te han ofrecido hacer prácticas en el departamento de analítica de Showz, una empresa de venta de entradas de eventos. Tu primera tarea es ayudar a optimizar los gastos de marketing. \n",
    "\n",
    "Cuentas con:\n",
    "\n",
    "* registros del servidor con datos sobre las visitas a Showz desde enero de 2017 hasta diciembre de 2018;\n",
    "* un archivo con los pedidos en este periodo;\n",
    "* estadísticas de gastos de marketing.\n",
    "\n",
    "Lo que vas a investigar: \n",
    "\n",
    "* cómo los clientes usan el servicio;\n",
    "* cuándo empiezan a comprar;\n",
    "* cuánto dinero aporta cada cliente a la compañía;\n",
    "* cuándo los ingresos cubren el costo de adquisición de los clientes."
   ]
  },
  {
   "cell_type": "markdown",
   "metadata": {},
   "source": [
    "## Inicialización"
   ]
  },
  {
   "cell_type": "code",
   "execution_count": 2,
   "metadata": {},
   "outputs": [],
   "source": [
    "# Cargar todas las librerías\n",
    "import pandas as pd\n",
    "import numpy as np\n",
    "import matplotlib.pyplot as plt\n",
    "from scipy import stats as st\n",
    "import seaborn as sns"
   ]
  },
  {
   "cell_type": "markdown",
   "metadata": {},
   "source": [
    "## Cargar datos"
   ]
  },
  {
   "cell_type": "code",
   "execution_count": 3,
   "metadata": {},
   "outputs": [],
   "source": [
    "# Cargar los archivos\n",
    "df_visits_log = pd.read_csv(\"/datasets/visits_log_us.csv\")\n",
    "df_ordes_log = pd.read_csv(\"/datasets/orders_log_us.csv\")\n",
    "df_costs = pd.read_csv(\"/datasets/costs_us.csv\")"
   ]
  },
  {
   "cell_type": "markdown",
   "metadata": {},
   "source": [
    "## Información General "
   ]
  },
  {
   "cell_type": "code",
   "execution_count": 4,
   "metadata": {},
   "outputs": [
    {
     "name": "stdout",
     "output_type": "stream",
     "text": [
      "<class 'pandas.core.frame.DataFrame'>\n",
      "RangeIndex: 359400 entries, 0 to 359399\n",
      "Data columns (total 5 columns):\n",
      " #   Column     Non-Null Count   Dtype \n",
      "---  ------     --------------   ----- \n",
      " 0   Device     359400 non-null  object\n",
      " 1   End Ts     359400 non-null  object\n",
      " 2   Source Id  359400 non-null  int64 \n",
      " 3   Start Ts   359400 non-null  object\n",
      " 4   Uid        359400 non-null  uint64\n",
      "dtypes: int64(1), object(3), uint64(1)\n",
      "memory usage: 13.7+ MB\n",
      "<class 'pandas.core.frame.DataFrame'>\n",
      "RangeIndex: 50415 entries, 0 to 50414\n",
      "Data columns (total 3 columns):\n",
      " #   Column   Non-Null Count  Dtype  \n",
      "---  ------   --------------  -----  \n",
      " 0   Buy Ts   50415 non-null  object \n",
      " 1   Revenue  50415 non-null  float64\n",
      " 2   Uid      50415 non-null  uint64 \n",
      "dtypes: float64(1), object(1), uint64(1)\n",
      "memory usage: 1.2+ MB\n",
      "<class 'pandas.core.frame.DataFrame'>\n",
      "RangeIndex: 2542 entries, 0 to 2541\n",
      "Data columns (total 3 columns):\n",
      " #   Column     Non-Null Count  Dtype  \n",
      "---  ------     --------------  -----  \n",
      " 0   source_id  2542 non-null   int64  \n",
      " 1   dt         2542 non-null   object \n",
      " 2   costs      2542 non-null   float64\n",
      "dtypes: float64(1), int64(1), object(1)\n",
      "memory usage: 59.7+ KB\n"
     ]
    }
   ],
   "source": [
    "# Información general/resumida sobre el DataFrame:\n",
    "df_visits_log.info()\n",
    "df_ordes_log.info()\n",
    "df_costs.info()"
   ]
  },
  {
   "cell_type": "code",
   "execution_count": 5,
   "metadata": {},
   "outputs": [
    {
     "name": "stdout",
     "output_type": "stream",
     "text": [
      "Información  del Dtaframe: visits_log\n"
     ]
    },
    {
     "data": {
      "text/html": [
       "<div>\n",
       "<style scoped>\n",
       "    .dataframe tbody tr th:only-of-type {\n",
       "        vertical-align: middle;\n",
       "    }\n",
       "\n",
       "    .dataframe tbody tr th {\n",
       "        vertical-align: top;\n",
       "    }\n",
       "\n",
       "    .dataframe thead th {\n",
       "        text-align: right;\n",
       "    }\n",
       "</style>\n",
       "<table border=\"1\" class=\"dataframe\">\n",
       "  <thead>\n",
       "    <tr style=\"text-align: right;\">\n",
       "      <th></th>\n",
       "      <th>device</th>\n",
       "      <th>end_ts</th>\n",
       "      <th>source_id</th>\n",
       "      <th>start_ts</th>\n",
       "      <th>uid</th>\n",
       "    </tr>\n",
       "  </thead>\n",
       "  <tbody>\n",
       "    <tr>\n",
       "      <th>0</th>\n",
       "      <td>touch</td>\n",
       "      <td>2017-12-20 17:38:00</td>\n",
       "      <td>4</td>\n",
       "      <td>2017-12-20 17:20:00</td>\n",
       "      <td>16879256277535980062</td>\n",
       "    </tr>\n",
       "    <tr>\n",
       "      <th>1</th>\n",
       "      <td>desktop</td>\n",
       "      <td>2018-02-19 17:21:00</td>\n",
       "      <td>2</td>\n",
       "      <td>2018-02-19 16:53:00</td>\n",
       "      <td>104060357244891740</td>\n",
       "    </tr>\n",
       "    <tr>\n",
       "      <th>2</th>\n",
       "      <td>touch</td>\n",
       "      <td>2017-07-01 01:54:00</td>\n",
       "      <td>5</td>\n",
       "      <td>2017-07-01 01:54:00</td>\n",
       "      <td>7459035603376831527</td>\n",
       "    </tr>\n",
       "    <tr>\n",
       "      <th>3</th>\n",
       "      <td>desktop</td>\n",
       "      <td>2018-05-20 11:23:00</td>\n",
       "      <td>9</td>\n",
       "      <td>2018-05-20 10:59:00</td>\n",
       "      <td>16174680259334210214</td>\n",
       "    </tr>\n",
       "    <tr>\n",
       "      <th>4</th>\n",
       "      <td>desktop</td>\n",
       "      <td>2017-12-27 14:06:00</td>\n",
       "      <td>3</td>\n",
       "      <td>2017-12-27 14:06:00</td>\n",
       "      <td>9969694820036681168</td>\n",
       "    </tr>\n",
       "  </tbody>\n",
       "</table>\n",
       "</div>"
      ],
      "text/plain": [
       "    device               end_ts  source_id             start_ts  \\\n",
       "0    touch  2017-12-20 17:38:00          4  2017-12-20 17:20:00   \n",
       "1  desktop  2018-02-19 17:21:00          2  2018-02-19 16:53:00   \n",
       "2    touch  2017-07-01 01:54:00          5  2017-07-01 01:54:00   \n",
       "3  desktop  2018-05-20 11:23:00          9  2018-05-20 10:59:00   \n",
       "4  desktop  2017-12-27 14:06:00          3  2017-12-27 14:06:00   \n",
       "\n",
       "                    uid  \n",
       "0  16879256277535980062  \n",
       "1    104060357244891740  \n",
       "2   7459035603376831527  \n",
       "3  16174680259334210214  \n",
       "4   9969694820036681168  "
      ]
     },
     "execution_count": 5,
     "metadata": {},
     "output_type": "execute_result"
    }
   ],
   "source": [
    "# Muestra de los datos \n",
    "print(\"Información  del Dtaframe: visits_log\")\n",
    "df_visits_log.columns = df_visits_log.columns.str.replace(' ', '_').str.lower()\n",
    "df_visits_log.head()"
   ]
  },
  {
   "cell_type": "code",
   "execution_count": 6,
   "metadata": {},
   "outputs": [
    {
     "name": "stdout",
     "output_type": "stream",
     "text": [
      "Información  del Dtaframe: ordes_log\n"
     ]
    },
    {
     "data": {
      "text/html": [
       "<div>\n",
       "<style scoped>\n",
       "    .dataframe tbody tr th:only-of-type {\n",
       "        vertical-align: middle;\n",
       "    }\n",
       "\n",
       "    .dataframe tbody tr th {\n",
       "        vertical-align: top;\n",
       "    }\n",
       "\n",
       "    .dataframe thead th {\n",
       "        text-align: right;\n",
       "    }\n",
       "</style>\n",
       "<table border=\"1\" class=\"dataframe\">\n",
       "  <thead>\n",
       "    <tr style=\"text-align: right;\">\n",
       "      <th></th>\n",
       "      <th>buy_ts</th>\n",
       "      <th>revenue</th>\n",
       "      <th>uid</th>\n",
       "    </tr>\n",
       "  </thead>\n",
       "  <tbody>\n",
       "    <tr>\n",
       "      <th>0</th>\n",
       "      <td>2017-06-01 00:10:00</td>\n",
       "      <td>17.00</td>\n",
       "      <td>10329302124590727494</td>\n",
       "    </tr>\n",
       "    <tr>\n",
       "      <th>1</th>\n",
       "      <td>2017-06-01 00:25:00</td>\n",
       "      <td>0.55</td>\n",
       "      <td>11627257723692907447</td>\n",
       "    </tr>\n",
       "    <tr>\n",
       "      <th>2</th>\n",
       "      <td>2017-06-01 00:27:00</td>\n",
       "      <td>0.37</td>\n",
       "      <td>17903680561304213844</td>\n",
       "    </tr>\n",
       "    <tr>\n",
       "      <th>3</th>\n",
       "      <td>2017-06-01 00:29:00</td>\n",
       "      <td>0.55</td>\n",
       "      <td>16109239769442553005</td>\n",
       "    </tr>\n",
       "    <tr>\n",
       "      <th>4</th>\n",
       "      <td>2017-06-01 07:58:00</td>\n",
       "      <td>0.37</td>\n",
       "      <td>14200605875248379450</td>\n",
       "    </tr>\n",
       "  </tbody>\n",
       "</table>\n",
       "</div>"
      ],
      "text/plain": [
       "                buy_ts  revenue                   uid\n",
       "0  2017-06-01 00:10:00    17.00  10329302124590727494\n",
       "1  2017-06-01 00:25:00     0.55  11627257723692907447\n",
       "2  2017-06-01 00:27:00     0.37  17903680561304213844\n",
       "3  2017-06-01 00:29:00     0.55  16109239769442553005\n",
       "4  2017-06-01 07:58:00     0.37  14200605875248379450"
      ]
     },
     "execution_count": 6,
     "metadata": {},
     "output_type": "execute_result"
    }
   ],
   "source": [
    "# Muestra de los datos \n",
    "print(\"Información  del Dtaframe: ordes_log\")\n",
    "df_ordes_log.columns = df_ordes_log.columns.str.replace(' ', '_').str.lower()\n",
    "df_ordes_log.head()"
   ]
  },
  {
   "cell_type": "code",
   "execution_count": 7,
   "metadata": {},
   "outputs": [
    {
     "name": "stdout",
     "output_type": "stream",
     "text": [
      "Información  del Dtaframe: costs\n"
     ]
    },
    {
     "data": {
      "text/html": [
       "<div>\n",
       "<style scoped>\n",
       "    .dataframe tbody tr th:only-of-type {\n",
       "        vertical-align: middle;\n",
       "    }\n",
       "\n",
       "    .dataframe tbody tr th {\n",
       "        vertical-align: top;\n",
       "    }\n",
       "\n",
       "    .dataframe thead th {\n",
       "        text-align: right;\n",
       "    }\n",
       "</style>\n",
       "<table border=\"1\" class=\"dataframe\">\n",
       "  <thead>\n",
       "    <tr style=\"text-align: right;\">\n",
       "      <th></th>\n",
       "      <th>source_id</th>\n",
       "      <th>dt</th>\n",
       "      <th>costs</th>\n",
       "    </tr>\n",
       "  </thead>\n",
       "  <tbody>\n",
       "    <tr>\n",
       "      <th>0</th>\n",
       "      <td>1</td>\n",
       "      <td>2017-06-01</td>\n",
       "      <td>75.20</td>\n",
       "    </tr>\n",
       "    <tr>\n",
       "      <th>1</th>\n",
       "      <td>1</td>\n",
       "      <td>2017-06-02</td>\n",
       "      <td>62.25</td>\n",
       "    </tr>\n",
       "    <tr>\n",
       "      <th>2</th>\n",
       "      <td>1</td>\n",
       "      <td>2017-06-03</td>\n",
       "      <td>36.53</td>\n",
       "    </tr>\n",
       "    <tr>\n",
       "      <th>3</th>\n",
       "      <td>1</td>\n",
       "      <td>2017-06-04</td>\n",
       "      <td>55.00</td>\n",
       "    </tr>\n",
       "    <tr>\n",
       "      <th>4</th>\n",
       "      <td>1</td>\n",
       "      <td>2017-06-05</td>\n",
       "      <td>57.08</td>\n",
       "    </tr>\n",
       "  </tbody>\n",
       "</table>\n",
       "</div>"
      ],
      "text/plain": [
       "   source_id          dt  costs\n",
       "0          1  2017-06-01  75.20\n",
       "1          1  2017-06-02  62.25\n",
       "2          1  2017-06-03  36.53\n",
       "3          1  2017-06-04  55.00\n",
       "4          1  2017-06-05  57.08"
      ]
     },
     "execution_count": 7,
     "metadata": {},
     "output_type": "execute_result"
    }
   ],
   "source": [
    "# Muestra de los datos \n",
    "print(\"Información  del Dtaframe: costs\")\n",
    "df_costs.head()"
   ]
  },
  {
   "cell_type": "code",
   "execution_count": 8,
   "metadata": {},
   "outputs": [
    {
     "name": "stdout",
     "output_type": "stream",
     "text": [
      "Número de valores ausentes: visits_log  device       0\n",
      "end_ts       0\n",
      "source_id    0\n",
      "start_ts     0\n",
      "uid          0\n",
      "dtype: int64\n"
     ]
    }
   ],
   "source": [
    "# Valores ausentes\n",
    "print(\"Número de valores ausentes: visits_log \", df_visits_log.isna().sum())"
   ]
  },
  {
   "cell_type": "code",
   "execution_count": 9,
   "metadata": {},
   "outputs": [
    {
     "name": "stdout",
     "output_type": "stream",
     "text": [
      "Número de valores ausentes: ordes_log  buy_ts     0\n",
      "revenue    0\n",
      "uid        0\n",
      "dtype: int64\n"
     ]
    }
   ],
   "source": [
    "# Valores ausentes\n",
    "print(\"Número de valores ausentes: ordes_log \", df_ordes_log.isna().sum())"
   ]
  },
  {
   "cell_type": "code",
   "execution_count": 10,
   "metadata": {},
   "outputs": [
    {
     "name": "stdout",
     "output_type": "stream",
     "text": [
      "Número de valores ausentes: df_costs  source_id    0\n",
      "dt           0\n",
      "costs        0\n",
      "dtype: int64\n"
     ]
    }
   ],
   "source": [
    "# Valores ausentes\n",
    "print(\"Número de valores ausentes: df_costs \", df_costs.isna().sum())"
   ]
  },
  {
   "cell_type": "code",
   "execution_count": 11,
   "metadata": {},
   "outputs": [
    {
     "name": "stdout",
     "output_type": "stream",
     "text": [
      "Número de valores duplicados: visits_log 0\n",
      "Número de valores duplicados: ordes_log 0\n",
      "Número de valores duplicados: df_costs 0\n"
     ]
    }
   ],
   "source": [
    "# Valores duplicados\n",
    "print(\"Número de valores duplicados: visits_log\", df_visits_log.duplicated().sum())\n",
    "print(\"Número de valores duplicados: ordes_log\", df_ordes_log.duplicated().sum())\n",
    "print(\"Número de valores duplicados: df_costs\", df_costs.duplicated().sum())"
   ]
  },
  {
   "cell_type": "markdown",
   "metadata": {},
   "source": [
    "<div class=\"alert alert-block alert-info\">\n",
    "De acuerdo con la informacion obtenida estos DF se observa que:\n",
    "    \n",
    "* Tienen columnas de tipo float, object y entero.\n",
    "* Las tablas visits y orders tenian titulos en mayuscula y sin espacio, por lo tanto se modificaron.\n",
    "* No tiene valores ausentes.\n",
    "* No tiene valores duplicados\n",
    "</div>"
   ]
  },
  {
   "cell_type": "markdown",
   "metadata": {},
   "source": [
    "## Informes y métricas "
   ]
  },
  {
   "cell_type": "markdown",
   "metadata": {},
   "source": [
    "### Visitas:"
   ]
  },
  {
   "cell_type": "markdown",
   "metadata": {},
   "source": [
    "#### Usuarios por dia, semana y mes."
   ]
  },
  {
   "cell_type": "code",
   "execution_count": 12,
   "metadata": {},
   "outputs": [
    {
     "name": "stdout",
     "output_type": "stream",
     "text": [
      "Usuarios únicos por día:\n",
      "Day\n",
      "2017-06-01     605\n",
      "2017-06-02     608\n",
      "2017-06-03     445\n",
      "2017-06-04     476\n",
      "2017-06-05     820\n",
      "              ... \n",
      "2018-05-27     620\n",
      "2018-05-28    1039\n",
      "2018-05-29     948\n",
      "2018-05-30    1289\n",
      "2018-05-31    1997\n",
      "Name: uid, Length: 364, dtype: int64\n",
      "\n",
      "Usuarios únicos por semana:\n",
      "Week\n",
      "2017-05-29     2021\n",
      "2017-06-05     4129\n",
      "2017-06-12     2812\n",
      "2017-06-19     2878\n",
      "2017-06-26     3064\n",
      "2017-07-03     3294\n",
      "2017-07-10     4355\n",
      "2017-07-17     3841\n",
      "2017-07-24     2655\n",
      "2017-07-31     2364\n",
      "2017-08-07     2444\n",
      "2017-08-14     2746\n",
      "2017-08-21     3116\n",
      "2017-08-28     3694\n",
      "2017-09-04     4412\n",
      "2017-09-11     4319\n",
      "2017-09-18     4874\n",
      "2017-09-25     6241\n",
      "2017-10-02     7612\n",
      "2017-10-09     7074\n",
      "2017-10-16     7148\n",
      "2017-10-23     7401\n",
      "2017-10-30     7480\n",
      "2017-11-06     7179\n",
      "2017-11-13     8117\n",
      "2017-11-20    10586\n",
      "2017-11-27     8166\n",
      "2017-12-04     8407\n",
      "2017-12-11     8214\n",
      "2017-12-18     7172\n",
      "2017-12-25     7774\n",
      "2018-01-01     6918\n",
      "2018-01-08     6703\n",
      "2018-01-15     6972\n",
      "2018-01-22     7060\n",
      "2018-01-29     8111\n",
      "2018-02-05     7908\n",
      "2018-02-12     7759\n",
      "2018-02-19     7518\n",
      "2018-02-26     7395\n",
      "2018-03-05     6844\n",
      "2018-03-12     6225\n",
      "2018-03-19     7898\n",
      "2018-03-26     4940\n",
      "2018-04-02     5383\n",
      "2018-04-09     5494\n",
      "2018-04-16     5740\n",
      "2018-04-23     5503\n",
      "2018-04-30     3916\n",
      "2018-05-07     4128\n",
      "2018-05-14     5070\n",
      "2018-05-21     4995\n",
      "2018-05-28     4892\n",
      "Name: uid, dtype: int64\n",
      "\n",
      "Usuarios únicos por mes:\n",
      "Month\n",
      "2017-06-01    13259\n",
      "2017-07-01    14183\n",
      "2017-08-01    11631\n",
      "2017-09-01    18975\n",
      "2017-10-01    29692\n",
      "2017-11-01    32797\n",
      "2017-12-01    31557\n",
      "2018-01-01    28716\n",
      "2018-02-01    28749\n",
      "2018-03-01    27473\n",
      "2018-04-01    21008\n",
      "2018-05-01    20701\n",
      "Name: uid, dtype: int64\n"
     ]
    }
   ],
   "source": [
    "# ¿Cuántas personas lo usan cada día, semana y mes?\n",
    "\n",
    "# Convertir las columnas de tiempo a tipo datetime\n",
    "df_visits_log['start_ts'] = pd.to_datetime(df_visits_log['start_ts'])\n",
    "df_visits_log['end_ts'] = pd.to_datetime(df_visits_log['end_ts'])\n",
    "\n",
    "# Crear columnas de fecha para día, semana y mes\n",
    "df_visits_log['Day'] = df_visits_log['start_ts'].dt.date\n",
    "df_visits_log['Week'] = df_visits_log['start_ts'].dt.to_period('W').apply(lambda r: r.start_time)\n",
    "df_visits_log['Month'] = df_visits_log['start_ts'].dt.to_period('M').apply(lambda r: r.start_time)\n",
    "\n",
    "# Calcular usuarios únicos por día, semana y mes\n",
    "daily_users = df_visits_log.groupby('Day')['uid'].nunique()\n",
    "weekly_users = df_visits_log.groupby('Week')['uid'].nunique()\n",
    "monthly_users = df_visits_log.groupby('Month')['uid'].nunique()\n",
    "\n",
    "# Mostrar las métricas\n",
    "print(\"Usuarios únicos por día:\")\n",
    "print(daily_users)\n",
    "print(\"\\nUsuarios únicos por semana:\")\n",
    "print(weekly_users)\n",
    "print(\"\\nUsuarios únicos por mes:\")\n",
    "print(monthly_users)"
   ]
  },
  {
   "cell_type": "markdown",
   "metadata": {},
   "source": [
    "#### Sesiones por dia"
   ]
  },
  {
   "cell_type": "code",
   "execution_count": 13,
   "metadata": {},
   "outputs": [
    {
     "name": "stdout",
     "output_type": "stream",
     "text": [
      "Número de sesiones por día: Session Date\n",
      "2017-06-01     664\n",
      "2017-06-02     658\n",
      "2017-06-03     477\n",
      "2017-06-04     510\n",
      "2017-06-05     893\n",
      "              ... \n",
      "2018-05-27     672\n",
      "2018-05-28    1156\n",
      "2018-05-29    1035\n",
      "2018-05-30    1410\n",
      "2018-05-31    2256\n",
      "Length: 364, dtype: int64\n"
     ]
    }
   ],
   "source": [
    "# ¿Cuántas sesiones hay por día? (Un usuario puede tener más de una sesión).\n",
    "\n",
    "# Crear una nueva columna para extraer solo la fecha (sin hora)\n",
    "df_visits_log['Session Date'] = df_visits_log['start_ts'].dt.date\n",
    "\n",
    "# Contar el número de sesiones por fecha\n",
    "sessions_per_day = df_visits_log.groupby('Session Date').size()\n",
    "\n",
    "# Mostrar el número de sesiones por día\n",
    "print(\"Número de sesiones por día:\", sessions_per_day)"
   ]
  },
  {
   "cell_type": "markdown",
   "metadata": {},
   "source": [
    "#### Duración de cada sesión"
   ]
  },
  {
   "cell_type": "code",
   "execution_count": 14,
   "metadata": {},
   "outputs": [
    {
     "name": "stdout",
     "output_type": "stream",
     "text": [
      "0         1080\n",
      "1         1680\n",
      "2            0\n",
      "3         1440\n",
      "4            0\n",
      "          ... \n",
      "359395      19\n",
      "359396      19\n",
      "359397      19\n",
      "359398      19\n",
      "359399      19\n",
      "Name: session_duration_sec, Length: 359400, dtype: int64\n"
     ]
    },
    {
     "data": {
      "image/png": "[encoded data removed]",
      "text/plain": [
       "<Figure size 640x480 with 1 Axes>"
      ]
     },
     "metadata": {},
     "output_type": "display_data"
    }
   ],
   "source": [
    "# ¿Cuál es la duración de cada sesión?\n",
    "df_visits_log['session_duration_sec'] = (df_visits_log['end_ts'] - df_visits_log['start_ts']).dt.seconds\n",
    "print(df_visits_log['session_duration_sec'])\n",
    "\n",
    "df_visits_log['session_duration_sec'].hist(bins=50)\n",
    "plt.xlabel('Duración de la sesión (segundos)')\n",
    "plt.ylabel('Frecuencia')\n",
    "plt.title('Distribución de la duración de las sesiones')\n",
    "\n",
    "# Mostrar el gráfico\n",
    "plt.show()"
   ]
  },
  {
   "cell_type": "markdown",
   "metadata": {},
   "source": [
    "#### Frecuencia de regreso"
   ]
  },
  {
   "cell_type": "code",
   "execution_count": 15,
   "metadata": {},
   "outputs": [
    {
     "name": "stdout",
     "output_type": "stream",
     "text": [
      "uid    15.884409\n",
      "dtype: float64\n",
      "uid    3.90897\n",
      "dtype: float64\n"
     ]
    }
   ],
   "source": [
    "\n",
    "df_visits_log['start_ts'] = pd.to_datetime(df_visits_log['start_ts'], format= \"%Y-%m-%d %H:%M\")\n",
    "df_visits_log['end_ts'] = pd.to_datetime(df_visits_log['end_ts'], format= \"%Y-%m-%d %H:%M\")\n",
    "\n",
    "df_visits_log['session_year'] = df_visits_log['start_ts'].dt.isocalendar().year\n",
    "df_visits_log['session_month'] = df_visits_log['start_ts'].dt.month\n",
    "df_visits_log['session_week'] = df_visits_log['start_ts'].dt.isocalendar().week\n",
    "df_visits_log['session_date'] = df_visits_log['start_ts'].dt.date\n",
    "\n",
    "mau_total = (\n",
    "    df_visits_log.groupby(['session_year', 'session_month'])\n",
    "    .agg({'uid': 'nunique'})\n",
    "    .mean()\n",
    ")\n",
    "dau_total = df_visits_log.groupby('session_date').agg({'uid': 'nunique'}).mean()\n",
    "wau_total = df_visits_log.groupby(['session_year', 'session_week']).agg({'uid': 'nunique'}).mean()\n",
    "\n",
    "sticky_wau = (dau_total / wau_total) * 100\n",
    "sticky_mau = (dau_total / mau_total) * 100\n",
    "\n",
    "print(sticky_wau)\n",
    "print(sticky_mau)"
   ]
  },
  {
   "cell_type": "code",
   "execution_count": 16,
   "metadata": {},
   "outputs": [
    {
     "name": "stdout",
     "output_type": "stream",
     "text": [
      "                    uid            start_ts          prev_visit  \\\n",
      "196543   11863502262781 2018-03-01 17:27:00                 NaT   \n",
      "257333   49537067089222 2018-02-06 15:55:00                 NaT   \n",
      "173818  297729379853735 2017-06-07 18:47:00                 NaT   \n",
      "173142  313578113262317 2017-09-18 22:49:00                 NaT   \n",
      "192554  313578113262317 2018-02-18 15:17:00 2017-09-18 22:49:00   \n",
      "113873  313578113262317 2018-03-11 17:23:00 2018-02-18 15:17:00   \n",
      "34588   325320750514679 2017-09-30 14:29:00                 NaT   \n",
      "41778   325320750514679 2018-02-26 12:33:00 2017-09-30 14:29:00   \n",
      "188450  397399764396656 2018-01-18 12:32:00                 NaT   \n",
      "183750  407573351275847 2017-06-17 13:40:00                 NaT   \n",
      "\n",
      "        days_since_last  \n",
      "196543              NaN  \n",
      "257333              NaN  \n",
      "173818              NaN  \n",
      "173142              NaN  \n",
      "192554            152.0  \n",
      "113873             21.0  \n",
      "34588               NaN  \n",
      "41778             148.0  \n",
      "188450              NaN  \n",
      "183750              NaN  \n"
     ]
    }
   ],
   "source": [
    "# Calcular la frecuencia de retorno para cada usuario\n",
    "df_visits_sorted = df_visits_log.sort_values(by=['uid', 'start_ts'])\n",
    "df_visits_sorted['prev_visit'] = df_visits_sorted.groupby('uid')['start_ts'].shift(1)\n",
    "df_visits_sorted['days_since_last'] = (df_visits_sorted['start_ts'] - df_visits_sorted['prev_visit']).dt.days\n",
    "\n",
    "print(df_visits_sorted[['uid', 'start_ts', 'prev_visit', 'days_since_last']].head(10))"
   ]
  },
  {
   "cell_type": "code",
   "execution_count": 20,
   "metadata": {},
   "outputs": [
    {
     "data": {
      "image/png": "[encoded data removed]",
      "text/plain": [
       "<Figure size 1000x500 with 1 Axes>"
      ]
     },
     "metadata": {},
     "output_type": "display_data"
    }
   ],
   "source": [
    "# Histograma de días entre visitas (sin valores nulos)\n",
    "plt.figure(figsize=(10, 5))\n",
    "plt.hist(df_visits_sorted['days_since_last'].dropna(), bins=30, color='salmon', edgecolor='black')\n",
    "plt.title('Frecuencia de retorno: Días entre visitas')\n",
    "plt.xlabel('Días entre visitas')\n",
    "plt.ylabel('Ocurrencias')\n",
    "plt.show()"
   ]
  },
  {
   "cell_type": "markdown",
   "metadata": {},
   "source": [
    "<div class=\"alert alert-block alert-info\">\n",
    "De acuerdo con la informacion trabajada se hicieron los siguientes calculos:\n",
    "    \n",
    "* Usuarios por dia, semana y mes.\n",
    "* Sesiones por dia.\n",
    "* Duracion de cada sesion.\n",
    "* Frecuencia de regreso con un sticky_wau = 15.88% y sticky_mau = 3.90%\n",
    "    \n",
    "</div>"
   ]
  },
  {
   "cell_type": "markdown",
   "metadata": {},
   "source": [
    "### Ventas:"
   ]
  },
  {
   "cell_type": "code",
   "execution_count": 24,
   "metadata": {},
   "outputs": [
    {
     "name": "stdout",
     "output_type": "stream",
     "text": [
      "                    uid            start_ts              buy_ts  \\\n",
      "0  16174680259334210214 2018-05-20 10:59:00 2018-03-09 20:25:00   \n",
      "1  16174680259334210214 2018-03-09 20:05:00 2018-03-09 20:25:00   \n",
      "2  16007536194108375387 2017-09-03 21:35:00 2017-09-04 12:46:00   \n",
      "3  16007536194108375387 2017-09-03 21:35:00 2017-10-28 00:01:00   \n",
      "4  16007536194108375387 2017-09-03 21:35:00 2017-10-28 19:16:00   \n",
      "5  16007536194108375387 2017-10-27 15:20:00 2017-09-04 12:46:00   \n",
      "6  16007536194108375387 2017-10-27 15:20:00 2017-10-28 00:01:00   \n",
      "7  16007536194108375387 2017-10-27 15:20:00 2017-10-28 19:16:00   \n",
      "8  16007536194108375387 2017-09-04 17:37:00 2017-09-04 12:46:00   \n",
      "9  16007536194108375387 2017-09-04 17:37:00 2017-10-28 00:01:00   \n",
      "\n",
      "   conversion_time_days conversion_category  \n",
      "0                   -72       No Conversion  \n",
      "1                     0       Conversion 0d  \n",
      "2                     0       Conversion 0d  \n",
      "3                    54      Conversion 54d  \n",
      "4                    54      Conversion 54d  \n",
      "5                   -54       No Conversion  \n",
      "6                     0       Conversion 0d  \n",
      "7                     1       Conversion 1d  \n",
      "8                    -1       No Conversion  \n",
      "9                    53      Conversion 53d  \n"
     ]
    }
   ],
   "source": [
    "# ¿Cuándo empieza la gente a comprar?\n",
    "\n",
    "# Convertir las columnas de tiempo a datetime\n",
    "df_visits_log['start_ts'] = pd.to_datetime(df_visits_log['start_ts'])\n",
    "df_ordes_log['buy_ts'] = pd.to_datetime(df_ordes_log['buy_ts'])\n",
    "\n",
    "# Fusionar los DataFrames por 'uid' para obtener las columnas necesarias\n",
    "df_merged = pd.merge(df_visits_log[['uid', 'start_ts']], df_ordes_log[['uid', 'buy_ts']], on='uid', how='inner')\n",
    "\n",
    "# Calcular el tiempo entre registro y primera compra en días\n",
    "df_merged['conversion_time_days'] = (df_merged['buy_ts'] - df_merged['start_ts']).dt.days\n",
    "\n",
    "# Categorizar conversiones (Conversion 0d, Conversion 1d, etc.)\n",
    "df_merged['conversion_category'] = df_merged['conversion_time_days'].apply(lambda x: f'Conversion {x}d' if x >= 0 else 'No Conversion')\n",
    "\n",
    "# Mostrar las primeras filas para verificar\n",
    "print(df_merged.head(10))"
   ]
  },
  {
   "cell_type": "code",
   "execution_count": 23,
   "metadata": {},
   "outputs": [
    {
     "name": "stdout",
     "output_type": "stream",
     "text": [
      "Tiempo hasta la conversión (días) para algunos usuarios:\n"
     ]
    },
    {
     "data": {
      "text/html": [
       "<div>\n",
       "<style scoped>\n",
       "    .dataframe tbody tr th:only-of-type {\n",
       "        vertical-align: middle;\n",
       "    }\n",
       "\n",
       "    .dataframe tbody tr th {\n",
       "        vertical-align: top;\n",
       "    }\n",
       "\n",
       "    .dataframe thead th {\n",
       "        text-align: right;\n",
       "    }\n",
       "</style>\n",
       "<table border=\"1\" class=\"dataframe\">\n",
       "  <thead>\n",
       "    <tr style=\"text-align: right;\">\n",
       "      <th></th>\n",
       "      <th>uid</th>\n",
       "      <th>first_visit</th>\n",
       "      <th>first_order</th>\n",
       "      <th>conversion_days</th>\n",
       "    </tr>\n",
       "  </thead>\n",
       "  <tbody>\n",
       "    <tr>\n",
       "      <th>0</th>\n",
       "      <td>313578113262317</td>\n",
       "      <td>2017-09-18 22:49:00</td>\n",
       "      <td>2018-01-03 21:51:00</td>\n",
       "      <td>106</td>\n",
       "    </tr>\n",
       "    <tr>\n",
       "      <th>1</th>\n",
       "      <td>1575281904278712</td>\n",
       "      <td>2017-06-03 10:13:00</td>\n",
       "      <td>2017-06-03 10:13:00</td>\n",
       "      <td>0</td>\n",
       "    </tr>\n",
       "    <tr>\n",
       "      <th>2</th>\n",
       "      <td>2429014661409475</td>\n",
       "      <td>2017-10-11 17:14:00</td>\n",
       "      <td>2017-10-11 18:33:00</td>\n",
       "      <td>0</td>\n",
       "    </tr>\n",
       "    <tr>\n",
       "      <th>3</th>\n",
       "      <td>2464366381792757</td>\n",
       "      <td>2018-01-27 20:10:00</td>\n",
       "      <td>2018-01-28 15:54:00</td>\n",
       "      <td>0</td>\n",
       "    </tr>\n",
       "    <tr>\n",
       "      <th>4</th>\n",
       "      <td>2551852515556206</td>\n",
       "      <td>2017-11-24 10:14:00</td>\n",
       "      <td>2017-11-24 10:14:00</td>\n",
       "      <td>0</td>\n",
       "    </tr>\n",
       "    <tr>\n",
       "      <th>5</th>\n",
       "      <td>3077748354309989</td>\n",
       "      <td>2018-03-03 12:08:00</td>\n",
       "      <td>2018-03-03 12:33:00</td>\n",
       "      <td>0</td>\n",
       "    </tr>\n",
       "    <tr>\n",
       "      <th>6</th>\n",
       "      <td>3605148382144603</td>\n",
       "      <td>2017-08-15 21:54:00</td>\n",
       "      <td>2017-09-21 20:56:00</td>\n",
       "      <td>36</td>\n",
       "    </tr>\n",
       "    <tr>\n",
       "      <th>7</th>\n",
       "      <td>3753586865891862</td>\n",
       "      <td>2018-03-03 13:47:00</td>\n",
       "      <td>2018-03-03 13:50:00</td>\n",
       "      <td>0</td>\n",
       "    </tr>\n",
       "    <tr>\n",
       "      <th>8</th>\n",
       "      <td>4808417689019433</td>\n",
       "      <td>2018-01-09 23:10:00</td>\n",
       "      <td>2018-01-09 23:32:00</td>\n",
       "      <td>0</td>\n",
       "    </tr>\n",
       "    <tr>\n",
       "      <th>9</th>\n",
       "      <td>4992223027560440</td>\n",
       "      <td>2018-04-04 13:54:00</td>\n",
       "      <td>2018-04-04 13:54:00</td>\n",
       "      <td>0</td>\n",
       "    </tr>\n",
       "  </tbody>\n",
       "</table>\n",
       "</div>"
      ],
      "text/plain": [
       "                uid         first_visit         first_order  conversion_days\n",
       "0   313578113262317 2017-09-18 22:49:00 2018-01-03 21:51:00              106\n",
       "1  1575281904278712 2017-06-03 10:13:00 2017-06-03 10:13:00                0\n",
       "2  2429014661409475 2017-10-11 17:14:00 2017-10-11 18:33:00                0\n",
       "3  2464366381792757 2018-01-27 20:10:00 2018-01-28 15:54:00                0\n",
       "4  2551852515556206 2017-11-24 10:14:00 2017-11-24 10:14:00                0\n",
       "5  3077748354309989 2018-03-03 12:08:00 2018-03-03 12:33:00                0\n",
       "6  3605148382144603 2017-08-15 21:54:00 2017-09-21 20:56:00               36\n",
       "7  3753586865891862 2018-03-03 13:47:00 2018-03-03 13:50:00                0\n",
       "8  4808417689019433 2018-01-09 23:10:00 2018-01-09 23:32:00                0\n",
       "9  4992223027560440 2018-04-04 13:54:00 2018-04-04 13:54:00                0"
      ]
     },
     "metadata": {},
     "output_type": "display_data"
    }
   ],
   "source": [
    "# Extraer la primera visita (registro) de cada usuario\n",
    "first_visit = df_visits_log.groupby('uid')['start_ts'].min().reset_index().rename(columns={'start_ts': 'first_visit'})\n",
    "\n",
    "# Extraer el primer pedido de cada usuario\n",
    "first_order = df_ordes_log.groupby('uid')['buy_ts'].min().reset_index().rename(columns={'buy_ts': 'first_order'})\n",
    "\n",
    "# Unir ambas tablas para calcular el tiempo hasta conversión\n",
    "conversion = pd.merge(first_visit, first_order, on='uid', how='inner')\n",
    "conversion['conversion_days'] = (conversion['first_order'] - conversion['first_visit']).dt.days\n",
    "\n",
    "print(\"Tiempo hasta la conversión (días) para algunos usuarios:\")\n",
    "display(conversion[['uid', 'first_visit', 'first_order', 'conversion_days']].head(10))"
   ]
  },
  {
   "cell_type": "code",
   "execution_count": 25,
   "metadata": {},
   "outputs": [
    {
     "data": {
      "image/png": "[encoded data removed]",
      "text/plain": [
       "<Figure size 1000x500 with 1 Axes>"
      ]
     },
     "metadata": {},
     "output_type": "display_data"
    }
   ],
   "source": [
    "# Histograma de los días hasta la conversión\n",
    "plt.figure(figsize=(10, 5))\n",
    "plt.hist(conversion['conversion_days'], bins=range(0, conversion['conversion_days'].max()+2), color='lightgreen', edgecolor='black', align='left')\n",
    "plt.title('Días hasta la conversión')\n",
    "plt.xlabel('Días')\n",
    "plt.ylabel('Cantidad de usuarios')\n",
    "plt.show()"
   ]
  },
  {
   "cell_type": "markdown",
   "metadata": {},
   "source": [
    "#### Pedidos"
   ]
  },
  {
   "cell_type": "code",
   "execution_count": 27,
   "metadata": {},
   "outputs": [
    {
     "data": {
      "image/png": "[encoded data removed]",
      "text/plain": [
       "<Figure size 1200x500 with 1 Axes>"
      ]
     },
     "metadata": {},
     "output_type": "display_data"
    }
   ],
   "source": [
    "# Pedidos por día\n",
    "df_ordes_log['order_date'] = df_ordes_log['buy_ts'].dt.date\n",
    "orders_per_day = df_ordes_log.groupby('order_date').size()\n",
    "\n",
    "plt.figure(figsize=(12, 5))\n",
    "orders_per_day.plot(kind='line', marker='o')\n",
    "plt.title('Número de Pedidos por Día')\n",
    "plt.xlabel('Fecha')\n",
    "plt.ylabel('Número de Pedidos')\n",
    "plt.xticks(rotation=45)\n",
    "plt.show()"
   ]
  },
  {
   "cell_type": "code",
   "execution_count": 18,
   "metadata": {},
   "outputs": [
    {
     "name": "stdout",
     "output_type": "stream",
     "text": [
      "Número de pedidos entre 2018-01-01 y 2018-06-30: 22948\n"
     ]
    }
   ],
   "source": [
    "# ¿Cuántos pedidos hacen durante un período de tiempo dado?\n",
    "# Establecer el período deseado\n",
    "start_date = \"2018-01-01\"\n",
    "end_date = \"2018-06-30\"\n",
    "\n",
    "# Filtrar los pedidos dentro del período especificado\n",
    "filtered_orders = df_ordes_log[\n",
    "    (df_ordes_log['buy_ts'] >= start_date) & \n",
    "    (df_ordes_log['buy_ts'] <= end_date)\n",
    "]\n",
    "\n",
    "# Contar la cantidad de pedidos en el período dado\n",
    "order_count = len(filtered_orders)\n",
    "\n",
    "# Mostrar el resultado\n",
    "print(f\"Número de pedidos entre {start_date} y {end_date}: {order_count}\")"
   ]
  },
  {
   "cell_type": "markdown",
   "metadata": {},
   "source": [
    "#### Promedio de compra"
   ]
  },
  {
   "cell_type": "code",
   "execution_count": 29,
   "metadata": {},
   "outputs": [
    {
     "name": "stdout",
     "output_type": "stream",
     "text": [
      "El tamaño promedio de compra es: 4.8548771134739415\n"
     ]
    }
   ],
   "source": [
    "# Calcular el tamaño promedio de compra\n",
    "average_purchase = filtered_orders['revenue'].mean()\n",
    "\n",
    "# Mostrar el resultado\n",
    "print(f\"El tamaño promedio de compra es: {average_purchase}\")"
   ]
  },
  {
   "cell_type": "markdown",
   "metadata": {},
   "source": [
    "#### LTV"
   ]
  },
  {
   "cell_type": "code",
   "execution_count": 30,
   "metadata": {},
   "outputs": [
    {
     "name": "stdout",
     "output_type": "stream",
     "text": [
      "El Valor del Tiempo de Vida del Cliente (LTV) es: 0.982577688037217\n"
     ]
    }
   ],
   "source": [
    "# ¿Cuánto dinero traen? (LTV)\n",
    "\n",
    "# Calcular ingreso promedio por compra (ARPU)\n",
    "arpu = df_ordes_log['revenue'].mean()\n",
    "\n",
    "# Calcular frecuencia promedio de compras por cliente\n",
    "purchase_frequency = df_ordes_log.groupby('uid').size().mean()\n",
    "\n",
    "# Calcular duración promedio de la relación (en años)\n",
    "df_ordes_log['relationship_duration_days'] = (\n",
    "    df_ordes_log.groupby('uid')['buy_ts'].transform('max') -\n",
    "    df_visits_log.groupby('uid')['start_ts'].transform('min')\n",
    ").dt.days\n",
    "\n",
    "average_relationship_duration_years = df_ordes_log['relationship_duration_days'].mean() / 365\n",
    "\n",
    "# Calcular el LTV\n",
    "ltv = arpu * purchase_frequency * average_relationship_duration_years\n",
    "\n",
    "# Mostrar el resultado\n",
    "print(f\"El Valor del Tiempo de Vida del Cliente (LTV) es: {ltv}\")"
   ]
  },
  {
   "cell_type": "code",
   "execution_count": 31,
   "metadata": {},
   "outputs": [
    {
     "name": "stdout",
     "output_type": "stream",
     "text": [
      "Ejemplo de LTV por usuario:\n"
     ]
    },
    {
     "data": {
      "text/plain": [
       "uid\n",
       "313578113262317      0.55\n",
       "1575281904278712     3.05\n",
       "2429014661409475    73.33\n",
       "2464366381792757     2.44\n",
       "2551852515556206    10.99\n",
       "3077748354309989     4.67\n",
       "3605148382144603     0.69\n",
       "3753586865891862     3.50\n",
       "4808417689019433     1.22\n",
       "4992223027560440     3.05\n",
       "Name: revenue, dtype: float64"
      ]
     },
     "metadata": {},
     "output_type": "display_data"
    }
   ],
   "source": [
    "# Lifetime Value (LTV) por usuario\n",
    "ltv_per_user = df_ordes_log.groupby('uid')['revenue'].sum()\n",
    "print(\"Ejemplo de LTV por usuario:\")\n",
    "display(ltv_per_user.head(10))"
   ]
  },
  {
   "cell_type": "markdown",
   "metadata": {},
   "source": [
    "### Marketing"
   ]
  },
  {
   "cell_type": "markdown",
   "metadata": {},
   "source": [
    "#### ¿Cuánto dinero se gastó?"
   ]
  },
  {
   "cell_type": "code",
   "execution_count": 32,
   "metadata": {},
   "outputs": [
    {
     "name": "stdout",
     "output_type": "stream",
     "text": [
      "Gasto total en marketing: 329131.62\n",
      "\n",
      "Gasto por fuente de adquisición:\n",
      "source_id\n",
      "1      20833.27\n",
      "2      42806.04\n",
      "3     141321.63\n",
      "4      61073.60\n",
      "5      51757.10\n",
      "9       5517.49\n",
      "10      5822.49\n",
      "Name: costs, dtype: float64\n",
      "\n",
      "Gasto mensual:\n",
      "dt\n",
      "2017-06    18015.00\n",
      "2017-07    18240.59\n",
      "2017-08    14790.54\n",
      "2017-09    24368.91\n",
      "2017-10    36322.88\n",
      "2017-11    37907.88\n",
      "2017-12    38315.35\n",
      "2018-01    33518.52\n",
      "2018-02    32723.03\n",
      "2018-03    30415.27\n",
      "2018-04    22289.38\n",
      "2018-05    22224.27\n",
      "Freq: M, Name: costs, dtype: float64\n"
     ]
    }
   ],
   "source": [
    "# Convertir la columna 'dt' a formato datetime\n",
    "df_costs['dt'] = pd.to_datetime(df_costs['dt'])\n",
    "\n",
    "# Calcular el gasto total en marketing\n",
    "total_spent = df_costs['costs'].sum()\n",
    "\n",
    "# Calcular el gasto por fuente de adquisición\n",
    "costs_by_source = df_costs.groupby('source_id')['costs'].sum()\n",
    "\n",
    "# Calcular el gasto a lo largo del tiempo (por mes)\n",
    "costs_over_time = df_costs.groupby(df_costs['dt'].dt.to_period('M'))['costs'].sum()\n",
    "\n",
    "# Mostrar los resultados\n",
    "print(f\"Gasto total en marketing: {total_spent}\")\n",
    "print(\"\\nGasto por fuente de adquisición:\")\n",
    "print(costs_by_source)\n",
    "print(\"\\nGasto mensual:\")\n",
    "print(costs_over_time)"
   ]
  },
  {
   "cell_type": "code",
   "execution_count": 33,
   "metadata": {},
   "outputs": [
    {
     "data": {
      "image/png": "[encoded data removed]",
      "text/plain": [
       "<Figure size 1000x600 with 1 Axes>"
      ]
     },
     "metadata": {},
     "output_type": "display_data"
    }
   ],
   "source": [
    "import matplotlib.pyplot as plt\n",
    "\n",
    "# Graficar el gasto mensual\n",
    "costs_over_time.plot(kind='bar', figsize=(10, 6), color='skyblue')\n",
    "plt.title('Gasto de marketing a lo largo del tiempo')\n",
    "plt.xlabel('Mes')\n",
    "plt.ylabel('Gasto total')\n",
    "plt.show()"
   ]
  },
  {
   "cell_type": "markdown",
   "metadata": {},
   "source": [
    "#### Costo de adquisición de clientes"
   ]
  },
  {
   "cell_type": "code",
   "execution_count": 34,
   "metadata": {},
   "outputs": [
    {
     "name": "stdout",
     "output_type": "stream",
     "text": [
      "Costo de adquisición de clientes por fuente:\n",
      "source_id\n",
      "1     1.096546\n",
      "2     1.631017\n",
      "3     1.890439\n",
      "4     0.731201\n",
      "5     0.908434\n",
      "6          NaN\n",
      "7          NaN\n",
      "9     0.595584\n",
      "10    0.721766\n",
      "dtype: float64\n"
     ]
    }
   ],
   "source": [
    "# Calcular el gasto total por fuente de adquisición\n",
    "costs_by_source = df_costs.groupby('source_id')['costs'].sum()\n",
    "\n",
    "# Calcular el número de clientes únicos adquiridos por cada fuente\n",
    "customers_by_source = df_visits_log.groupby('source_id')['uid'].nunique()\n",
    "\n",
    "# Calcular el CAC para cada fuente\n",
    "cac_by_source = costs_by_source / customers_by_source\n",
    "\n",
    "# Mostrar el resultado\n",
    "print(\"Costo de adquisición de clientes por fuente:\")\n",
    "print(cac_by_source)"
   ]
  },
  {
   "cell_type": "code",
   "execution_count": 35,
   "metadata": {},
   "outputs": [
    {
     "name": "stdout",
     "output_type": "stream",
     "text": [
      "La fuente que atrajo más clientes es: 4\n",
      "Con un total de 83525 clientes únicos adquiridos.\n"
     ]
    }
   ],
   "source": [
    "# Fuente que atrajo más clientes\n",
    "top_source = customers_by_source.idxmax()  # Fuente con el máximo número de clientes\n",
    "max_customers = customers_by_source.max()  # Número máximo de clientes\n",
    "\n",
    "# Mostrar los resultados\n",
    "print(f\"La fuente que atrajo más clientes es: {top_source}\")\n",
    "print(f\"Con un total de {max_customers} clientes únicos adquiridos.\")"
   ]
  },
  {
   "cell_type": "code",
   "execution_count": 36,
   "metadata": {},
   "outputs": [
    {
     "data": {
      "image/png": "[encoded data removed]",
      "text/plain": [
       "<Figure size 1000x600 with 1 Axes>"
      ]
     },
     "metadata": {},
     "output_type": "display_data"
    }
   ],
   "source": [
    "# Número total de visitas por fuente\n",
    "visits_by_source = df_visits_log.groupby('source_id')['uid'].count()\n",
    "\n",
    "plt.figure(figsize=(10, 6))\n",
    "sns.barplot(x=visits_by_source.index, y=visits_by_source.values, palette=\"crest\")\n",
    "plt.title(\"Visitas por Fuente de Adquisición\")\n",
    "plt.xlabel(\"Fuente de Adquisición (source_id)\")\n",
    "plt.ylabel(\"Número de Visitas\")\n",
    "plt.xticks(rotation=0) \n",
    "plt.grid(axis='y')\n",
    "\n",
    "# Mostrar el gráfico\n",
    "plt.tight_layout()\n",
    "plt.show()"
   ]
  },
  {
   "cell_type": "markdown",
   "metadata": {},
   "source": [
    "#### ROMI"
   ]
  },
  {
   "cell_type": "code",
   "execution_count": 37,
   "metadata": {},
   "outputs": [
    {
     "name": "stdout",
     "output_type": "stream",
     "text": [
      "   first_order_month  n_buyers\n",
      "0         2017-06-01      2023\n",
      "1         2017-07-01      1923\n",
      "2         2017-08-01      1370\n",
      "3         2017-09-01      2581\n",
      "4         2017-10-01      4340\n",
      "5         2017-11-01      4081\n",
      "6         2017-12-01      4383\n",
      "7         2018-01-01      3373\n",
      "8         2018-02-01      3651\n",
      "9         2018-03-01      3533\n",
      "10        2018-04-01      2276\n",
      "11        2018-05-01      2988\n"
     ]
    }
   ],
   "source": [
    "df_ordes_log['order_month'] = df_ordes_log['buy_ts'].astype('datetime64[M]')\n",
    "df_costs['month'] = df_costs['dt'].astype('datetime64[M]')\n",
    "\n",
    "first_orders = df_ordes_log.groupby('uid').agg({'order_month': 'min'}).reset_index()\n",
    "first_orders.columns = ['uid', 'first_order_month']\n",
    "\n",
    "cohort_sizes = first_orders.groupby('first_order_month').agg({'uid': 'nunique'}).reset_index()\n",
    "cohort_sizes.columns = ['first_order_month', 'n_buyers']\n",
    "\n",
    "print(cohort_sizes.head(12))"
   ]
  },
  {
   "cell_type": "code",
   "execution_count": 46,
   "metadata": {},
   "outputs": [
    {
     "name": "stdout",
     "output_type": "stream",
     "text": [
      "ROMI por fuente de adquisición: source_id\n",
      "1     0.492351\n",
      "2     0.096191\n",
      "3    -0.614275\n",
      "4    -0.071664\n",
      "5     0.016750\n",
      "7          NaN\n",
      "9     0.043844\n",
      "10   -0.235665\n",
      "dtype: float64\n"
     ]
    }
   ],
   "source": [
    "### Cálculo del ROMI (Return on Marketing Investment)\n",
    "\n",
    "user_source = df_visits_log.sort_values(by='start_ts').groupby('uid').first().reset_index()[['uid', 'source_id']]\n",
    "\n",
    "# Asociar órdenes con la fuente de adquisición (utilizando la fuente del primer registro)\n",
    "orders_with_source = pd.merge(df_ordes_log, user_source, on='uid', how='left')\n",
    "\n",
    "# Ingresos por fuente\n",
    "revenue_by_source = orders_with_source.groupby('source_id')['revenue'].sum()\n",
    "\n",
    "# Calcular ROMI: (ingresos - gasto) / gasto\n",
    "romi = (revenue_by_source - costs_by_source) / costs_by_source\n",
    "print(\"ROMI por fuente de adquisición:\", romi)"
   ]
  },
  {
   "cell_type": "code",
   "execution_count": 50,
   "metadata": {},
   "outputs": [
    {
     "data": {
      "image/png": "[encoded data removed]",
      "text/plain": [
       "<Figure size 1400x500 with 2 Axes>"
      ]
     },
     "metadata": {},
     "output_type": "display_data"
    }
   ],
   "source": [
    "fig, ax = plt.subplots(1, 2, figsize=(14, 5))\n",
    "\n",
    "cac_by_source.plot(kind='bar', ax=ax[0], edgecolor='black')\n",
    "ax[0].set_title('Costo de Adquisición de Clientes (CAC)')\n",
    "ax[0].set_xlabel('Fuente')\n",
    "ax[0].set_ylabel('Costo')\n",
    "\n",
    "romi.plot(kind='bar', ax=ax[1], edgecolor='black')\n",
    "ax[1].set_title('ROMI por Fuente')\n",
    "ax[1].set_xlabel('Fuente')\n",
    "ax[1].set_ylabel('ROMI')\n",
    "\n",
    "plt.tight_layout()\n",
    "plt.show()"
   ]
  },
  {
   "cell_type": "code",
   "execution_count": 38,
   "metadata": {},
   "outputs": [
    {
     "name": "stdout",
     "output_type": "stream",
     "text": [
      "age                  0     1     2     3     4     5     6     7     8     9   \\\n",
      "first_order_month                                                               \n",
      "2017-06-01         0.21  0.23  0.25   0.3  0.34  0.38  0.42  0.44  0.47   0.5   \n",
      "2017-07-01         0.25  0.27  0.29  0.31  0.32  0.32  0.33  0.33  0.34  0.35   \n",
      "2017-08-01         0.20  0.21  0.23  0.24  0.26  0.27  0.28   0.3  0.31  0.31   \n",
      "2017-09-01         0.24  0.29  0.31  0.48  0.49  0.52  0.55  0.56  0.57         \n",
      "2017-10-01         0.24  0.26  0.27  0.28  0.29  0.29   0.3   0.3               \n",
      "2017-11-01         0.22  0.24  0.25  0.26  0.27  0.27  0.28                     \n",
      "2017-12-01         0.22  0.23  0.27  0.32  0.33  0.35                           \n",
      "2018-01-01         0.17  0.18  0.19   0.2   0.2                                 \n",
      "2018-02-01         0.19   0.2   0.2   0.2                                       \n",
      "2018-03-01         0.22  0.24  0.25                                             \n",
      "2018-04-01         0.19  0.21                                                   \n",
      "2018-05-01         0.25                                                         \n",
      "\n",
      "age                  10    11  \n",
      "first_order_month              \n",
      "2017-06-01         0.52  0.53  \n",
      "2017-07-01         0.35        \n",
      "2017-08-01                     \n",
      "2017-09-01                     \n",
      "2017-10-01                     \n",
      "2017-11-01                     \n",
      "2017-12-01                     \n",
      "2018-01-01                     \n",
      "2018-02-01                     \n",
      "2018-03-01                     \n",
      "2018-04-01                     \n",
      "2018-05-01                     \n"
     ]
    }
   ],
   "source": [
    "df_ordes_log['order_month'] = df_ordes_log['buy_ts'].astype('datetime64[M]')\n",
    "df_costs['month'] = df_costs['dt'].astype('datetime64[M]')\n",
    "\n",
    "first_orders = df_ordes_log.groupby('uid').agg({'order_month': 'min'}).reset_index()\n",
    "first_orders.columns = ['uid', 'first_order_month']\n",
    "\n",
    "cohort_sizes = (\n",
    "    first_orders.groupby('first_order_month')\n",
    "    .agg({'uid': 'nunique'})\n",
    "    .reset_index()\n",
    ")\n",
    "cohort_sizes.columns = ['first_order_month', 'n_buyers']\n",
    "\n",
    "margin_rate = 0.4\n",
    "\n",
    "df_ordes_log = pd.merge(df_ordes_log, first_orders, on='uid')\n",
    "cohorts = (\n",
    "    df_ordes_log.groupby(['first_order_month', 'order_month'])\n",
    "    .agg({'revenue': 'sum'})\n",
    "    .reset_index()\n",
    ")\n",
    "report = pd.merge(cohort_sizes, cohorts, on='first_order_month')\n",
    "\n",
    "report['gp'] = report['revenue'] * margin_rate\n",
    "report['age'] = (\n",
    "    report['order_month'] - report['first_order_month']\n",
    ") / np.timedelta64(1, 'M')\n",
    "report['age'] = report['age'].round().astype('int')\n",
    "\n",
    "report['ltv'] = report['gp'] / report['n_buyers']\n",
    "\n",
    "result = report.pivot_table(\n",
    "    index='first_order_month', columns='age', values='ltv', aggfunc='mean'\n",
    ").round()\n",
    "\n",
    "\n",
    "result = result.fillna('')\n",
    "\n",
    "# calcula los costos mensuales\n",
    "monthly_costs = df_costs.groupby('month').sum()\n",
    "# agrega los costos mensuales al informe de la cohorte\n",
    "report_ = pd.merge(report, monthly_costs, left_on='first_order_month', right_on='month')\n",
    "# calcula el CAC\n",
    "report_['cac'] = report_['costs'] / report_['n_buyers']\n",
    " #calcula el ROMI\n",
    "report_['romi'] = report_['romi'] = report_['ltv'] / report_['cac']\n",
    "# crea una nueva tabla dinámica\n",
    "output = report_.pivot_table(\n",
    "    index='first_order_month', \n",
    "    columns='age', \n",
    "    values='romi', \n",
    "    aggfunc='mean')\n",
    "\n",
    "output.cumsum(axis=1).round(2)\n",
    "\n",
    "print(output.cumsum(axis=1).round(2).fillna(''))"
   ]
  },
  {
   "cell_type": "code",
   "execution_count": 39,
   "metadata": {},
   "outputs": [
    {
     "data": {
      "image/png": "[encoded data removed]",
      "text/plain": [
       "<Figure size 1200x800 with 2 Axes>"
      ]
     },
     "metadata": {},
     "output_type": "display_data"
    }
   ],
   "source": [
    "heatmap_data = output.cumsum(axis=1).replace('', np.nan).astype(float)\n",
    "\n",
    "# Crear el heatmap\n",
    "plt.figure(figsize=(12, 8))\n",
    "sns.heatmap(\n",
    "    heatmap_data,  \n",
    "    annot=True,    \n",
    "    fmt=\".2f\",     \n",
    "    cmap=\"viridis\",  \n",
    "    linewidths=0.5,  \n",
    "    cbar_kws={'label': 'ROMI Acumulado'}\n",
    ")\n",
    "\n",
    "plt.title(\"Heatmap: ROMI Acumulado por Cohorte y Edad\")\n",
    "plt.xlabel(\"Edad de Cohorte (Meses)\")\n",
    "plt.ylabel(\"Cohorte Inicial (Mes de Primera Compra)\")\n",
    "plt.tight_layout()\n",
    "\n",
    "# Mostrar el gráfico\n",
    "plt.show()"
   ]
  },
  {
   "cell_type": "markdown",
   "metadata": {},
   "source": [
    "### Conclusion "
   ]
  },
  {
   "cell_type": "markdown",
   "metadata": {},
   "source": [
    "<div class=\"alert alert-block alert-info\">\n",
    "   \n",
    " De acuerdo a el analisis obtenido se recomienda:\n",
    "    \n",
    "* Asignar presupuesto prioritario a las fuentes que muestran el ROMI más alto consistentemente a lo largo del tiempo.\n",
    "* Se recomienda la fuente # 4 ya que es la que mas trae visitas online a la tienda.\n",
    "* La fuente 4 muestra un buen desempeno en el CAC lo que indica que es rentable.\n",
    "* Para las fuentes 2 y 3 se puede puede identificar como las menos rentable debido a los costos tan altos.\n",
    "* En la grafica podemos ver que la cohorte de Sept 2017 destaca con buenas ventas a partir del cuarto mes y puede estar relacionado con la campaña de marketing que se ejecuto en ese periodo.\n",
    "* El ROMI va creciendo con la edad lo que indica que los clientes con el tiempo tienden a comprar mas.\n",
    "* Con los datos anteriores se puede evaluar nuevas estrategias de marketing para retener a los clientes y atraer a nuevos.\n",
    "    \n",
    "</div>"
   ]
  }
 ],
 "metadata": {
  "ExecuteTimeLog": [
   {
    "duration": 158,
    "start_time": "2025-04-13T21:12:46.271Z"
   },
   {
    "duration": 13,
    "start_time": "2025-04-13T21:14:48.979Z"
   },
   {
    "duration": 2515,
    "start_time": "2025-04-13T21:15:24.354Z"
   },
   {
    "duration": 420,
    "start_time": "2025-04-13T21:15:26.871Z"
   },
   {
    "duration": 48,
    "start_time": "2025-04-13T21:15:27.295Z"
   },
   {
    "duration": 10,
    "start_time": "2025-04-13T21:16:49.953Z"
   },
   {
    "duration": 8,
    "start_time": "2025-04-13T21:17:15.671Z"
   },
   {
    "duration": 7,
    "start_time": "2025-04-13T21:17:42.727Z"
   },
   {
    "duration": 36,
    "start_time": "2025-04-13T21:19:52.804Z"
   },
   {
    "duration": 6,
    "start_time": "2025-04-13T21:20:54.106Z"
   },
   {
    "duration": 5,
    "start_time": "2025-04-13T21:21:22.689Z"
   },
   {
    "duration": 341,
    "start_time": "2025-04-13T21:29:28.246Z"
   },
   {
    "duration": 6,
    "start_time": "2025-04-13T21:29:48.330Z"
   },
   {
    "duration": 5,
    "start_time": "2025-04-13T21:32:32.482Z"
   },
   {
    "duration": 169,
    "start_time": "2025-04-13T21:35:29.568Z"
   },
   {
    "duration": 2,
    "start_time": "2025-04-13T22:15:54.569Z"
   },
   {
    "duration": 2,
    "start_time": "2025-04-13T22:15:56.946Z"
   },
   {
    "duration": 2,
    "start_time": "2025-04-13T22:18:19.694Z"
   },
   {
    "duration": 3,
    "start_time": "2025-04-13T22:23:45.709Z"
   },
   {
    "duration": 410,
    "start_time": "2025-04-13T22:23:45.716Z"
   },
   {
    "duration": 51,
    "start_time": "2025-04-13T22:23:46.128Z"
   },
   {
    "duration": 8,
    "start_time": "2025-04-13T22:23:46.182Z"
   },
   {
    "duration": 9,
    "start_time": "2025-04-13T22:23:46.194Z"
   },
   {
    "duration": 8,
    "start_time": "2025-04-13T22:23:46.205Z"
   },
   {
    "duration": 74,
    "start_time": "2025-04-13T22:23:46.215Z"
   },
   {
    "duration": 7,
    "start_time": "2025-04-13T22:23:46.292Z"
   },
   {
    "duration": 10,
    "start_time": "2025-04-13T22:23:46.302Z"
   },
   {
    "duration": 225,
    "start_time": "2025-04-13T22:23:46.315Z"
   },
   {
    "duration": 2,
    "start_time": "2025-04-13T22:23:46.542Z"
   },
   {
    "duration": 408,
    "start_time": "2025-04-13T22:29:09.827Z"
   },
   {
    "duration": 15,
    "start_time": "2025-04-13T22:40:08.869Z"
   },
   {
    "duration": 11,
    "start_time": "2025-04-13T22:40:20.401Z"
   },
   {
    "duration": 8,
    "start_time": "2025-04-13T22:40:51.674Z"
   },
   {
    "duration": 3,
    "start_time": "2025-04-13T22:41:57.128Z"
   },
   {
    "duration": 377,
    "start_time": "2025-04-13T22:41:57.137Z"
   },
   {
    "duration": 47,
    "start_time": "2025-04-13T22:41:57.516Z"
   },
   {
    "duration": 8,
    "start_time": "2025-04-13T22:41:57.565Z"
   },
   {
    "duration": 7,
    "start_time": "2025-04-13T22:41:57.587Z"
   },
   {
    "duration": 7,
    "start_time": "2025-04-13T22:41:57.596Z"
   },
   {
    "duration": 36,
    "start_time": "2025-04-13T22:41:57.605Z"
   },
   {
    "duration": 5,
    "start_time": "2025-04-13T22:41:57.643Z"
   },
   {
    "duration": 4,
    "start_time": "2025-04-13T22:41:57.650Z"
   },
   {
    "duration": 164,
    "start_time": "2025-04-13T22:41:57.687Z"
   },
   {
    "duration": 235,
    "start_time": "2025-04-13T22:41:57.853Z"
   },
   {
    "duration": 0,
    "start_time": "2025-04-13T22:41:58.090Z"
   },
   {
    "duration": 408,
    "start_time": "2025-04-13T22:43:37.339Z"
   },
   {
    "duration": 230,
    "start_time": "2025-04-13T22:46:33.984Z"
   },
   {
    "duration": 109,
    "start_time": "2025-04-13T22:47:03.119Z"
   },
   {
    "duration": 429,
    "start_time": "2025-04-13T22:47:52.265Z"
   },
   {
    "duration": 103,
    "start_time": "2025-04-13T22:48:27.066Z"
   },
   {
    "duration": 192,
    "start_time": "2025-04-13T22:51:37.598Z"
   },
   {
    "duration": 113,
    "start_time": "2025-04-13T22:51:55.051Z"
   },
   {
    "duration": 90,
    "start_time": "2025-04-13T22:52:25.292Z"
   },
   {
    "duration": 89,
    "start_time": "2025-04-13T22:53:01.780Z"
   },
   {
    "duration": 89,
    "start_time": "2025-04-13T22:54:15.830Z"
   },
   {
    "duration": 3,
    "start_time": "2025-04-13T23:04:17.415Z"
   },
   {
    "duration": 10,
    "start_time": "2025-04-13T23:04:46.403Z"
   },
   {
    "duration": 167,
    "start_time": "2025-04-13T23:08:50.836Z"
   },
   {
    "duration": 163,
    "start_time": "2025-04-13T23:10:02.495Z"
   },
   {
    "duration": 0,
    "start_time": "2025-04-13T23:13:10.149Z"
   },
   {
    "duration": 0,
    "start_time": "2025-04-13T23:13:10.151Z"
   },
   {
    "duration": 0,
    "start_time": "2025-04-13T23:13:10.152Z"
   },
   {
    "duration": 0,
    "start_time": "2025-04-13T23:13:10.153Z"
   },
   {
    "duration": 0,
    "start_time": "2025-04-13T23:13:10.155Z"
   },
   {
    "duration": 0,
    "start_time": "2025-04-13T23:13:10.156Z"
   },
   {
    "duration": 0,
    "start_time": "2025-04-13T23:13:10.156Z"
   },
   {
    "duration": 0,
    "start_time": "2025-04-13T23:13:10.157Z"
   },
   {
    "duration": 0,
    "start_time": "2025-04-13T23:13:10.158Z"
   },
   {
    "duration": 0,
    "start_time": "2025-04-13T23:13:10.159Z"
   },
   {
    "duration": 0,
    "start_time": "2025-04-13T23:13:10.160Z"
   },
   {
    "duration": 0,
    "start_time": "2025-04-13T23:13:10.161Z"
   },
   {
    "duration": 0,
    "start_time": "2025-04-13T23:13:10.186Z"
   },
   {
    "duration": 0,
    "start_time": "2025-04-13T23:13:10.187Z"
   },
   {
    "duration": 33252,
    "start_time": "2025-04-13T23:13:39.573Z"
   },
   {
    "duration": 0,
    "start_time": "2025-04-13T23:14:12.827Z"
   },
   {
    "duration": 33321,
    "start_time": "2025-04-13T23:15:09.731Z"
   },
   {
    "duration": 3,
    "start_time": "2025-04-13T23:18:59.904Z"
   },
   {
    "duration": 341,
    "start_time": "2025-04-13T23:18:59.909Z"
   },
   {
    "duration": 52,
    "start_time": "2025-04-13T23:19:00.252Z"
   },
   {
    "duration": 8,
    "start_time": "2025-04-13T23:19:00.305Z"
   },
   {
    "duration": 11,
    "start_time": "2025-04-13T23:19:00.315Z"
   },
   {
    "duration": 7,
    "start_time": "2025-04-13T23:19:00.328Z"
   },
   {
    "duration": 63,
    "start_time": "2025-04-13T23:19:00.340Z"
   },
   {
    "duration": 6,
    "start_time": "2025-04-13T23:19:00.404Z"
   },
   {
    "duration": 4,
    "start_time": "2025-04-13T23:19:00.412Z"
   },
   {
    "duration": 183,
    "start_time": "2025-04-13T23:19:00.418Z"
   },
   {
    "duration": 393,
    "start_time": "2025-04-13T23:19:00.603Z"
   },
   {
    "duration": 97,
    "start_time": "2025-04-13T23:19:00.998Z"
   },
   {
    "duration": 157,
    "start_time": "2025-04-13T23:19:01.097Z"
   },
   {
    "duration": 33191,
    "start_time": "2025-04-13T23:19:01.256Z"
   },
   {
    "duration": 159,
    "start_time": "2025-04-13T23:19:34.449Z"
   },
   {
    "duration": 162,
    "start_time": "2025-04-13T23:30:43.620Z"
   },
   {
    "duration": 315,
    "start_time": "2025-04-13T23:31:12.433Z"
   },
   {
    "duration": 300,
    "start_time": "2025-04-13T23:31:49.855Z"
   },
   {
    "duration": 14,
    "start_time": "2025-04-14T00:32:01.695Z"
   },
   {
    "duration": 2289,
    "start_time": "2025-04-14T00:32:30.997Z"
   },
   {
    "duration": 2419,
    "start_time": "2025-04-14T00:35:08.532Z"
   },
   {
    "duration": 23,
    "start_time": "2025-04-14T00:35:46.235Z"
   },
   {
    "duration": 167,
    "start_time": "2025-04-14T00:36:00.598Z"
   },
   {
    "duration": 47,
    "start_time": "2025-04-14T00:36:36.463Z"
   },
   {
    "duration": 256,
    "start_time": "2025-04-14T00:38:54.687Z"
   },
   {
    "duration": 124,
    "start_time": "2025-04-14T00:40:45.178Z"
   },
   {
    "duration": 11793,
    "start_time": "2025-04-14T00:41:27.998Z"
   },
   {
    "duration": 912,
    "start_time": "2025-04-14T01:15:30.593Z"
   },
   {
    "duration": 218,
    "start_time": "2025-04-14T01:18:43.128Z"
   },
   {
    "duration": 246,
    "start_time": "2025-04-14T01:19:01.956Z"
   },
   {
    "duration": 187,
    "start_time": "2025-04-14T01:20:47.858Z"
   },
   {
    "duration": 188,
    "start_time": "2025-04-14T01:22:09.518Z"
   },
   {
    "duration": 202,
    "start_time": "2025-04-14T01:22:21.978Z"
   },
   {
    "duration": 5,
    "start_time": "2025-04-14T01:24:14.510Z"
   },
   {
    "duration": 3,
    "start_time": "2025-04-14T01:25:33.478Z"
   },
   {
    "duration": 33,
    "start_time": "2025-04-14T01:27:24.822Z"
   },
   {
    "duration": 4,
    "start_time": "2025-04-14T02:02:01.107Z"
   },
   {
    "duration": 76,
    "start_time": "2025-04-14T02:04:58.682Z"
   },
   {
    "duration": 9,
    "start_time": "2025-04-14T02:08:48.041Z"
   },
   {
    "duration": 156,
    "start_time": "2025-04-14T02:11:11.026Z"
   },
   {
    "duration": 46,
    "start_time": "2025-04-14T02:12:23.636Z"
   },
   {
    "duration": 140,
    "start_time": "2025-04-14T02:14:07.963Z"
   },
   {
    "duration": 25,
    "start_time": "2025-04-14T02:15:00.352Z"
   },
   {
    "duration": 54,
    "start_time": "2025-04-14T02:32:48.242Z"
   },
   {
    "duration": 81,
    "start_time": "2025-04-14T02:34:25.116Z"
   },
   {
    "duration": 115,
    "start_time": "2025-04-14T02:35:13.572Z"
   },
   {
    "duration": 60,
    "start_time": "2025-04-14T02:37:31.971Z"
   },
   {
    "duration": 21,
    "start_time": "2025-04-14T02:38:11.181Z"
   },
   {
    "duration": 68,
    "start_time": "2025-04-14T02:38:37.266Z"
   },
   {
    "duration": 20,
    "start_time": "2025-04-14T02:39:06.931Z"
   },
   {
    "duration": 211,
    "start_time": "2025-04-14T02:47:00.579Z"
   },
   {
    "duration": 278,
    "start_time": "2025-04-14T02:48:04.840Z"
   },
   {
    "duration": 307,
    "start_time": "2025-04-14T02:49:00.490Z"
   },
   {
    "duration": 46,
    "start_time": "2025-04-14T02:49:14.438Z"
   },
   {
    "duration": 27,
    "start_time": "2025-04-14T02:49:34.490Z"
   },
   {
    "duration": 222,
    "start_time": "2025-04-14T02:53:25.313Z"
   },
   {
    "duration": 882,
    "start_time": "2025-04-14T02:57:03.645Z"
   },
   {
    "duration": 255,
    "start_time": "2025-04-14T02:58:22.703Z"
   },
   {
    "duration": 979,
    "start_time": "2025-04-14T02:59:54.683Z"
   },
   {
    "duration": 88,
    "start_time": "2025-04-14T03:01:35.061Z"
   },
   {
    "duration": 85,
    "start_time": "2025-04-14T03:02:05.849Z"
   },
   {
    "duration": 74,
    "start_time": "2025-04-14T03:03:51.394Z"
   },
   {
    "duration": 892,
    "start_time": "2025-04-14T03:04:36.171Z"
   },
   {
    "duration": 72,
    "start_time": "2025-04-14T03:06:15.323Z"
   },
   {
    "duration": 1097,
    "start_time": "2025-04-14T03:06:56.459Z"
   },
   {
    "duration": 3,
    "start_time": "2025-04-14T03:22:41.731Z"
   },
   {
    "duration": 46,
    "start_time": "2025-04-14T03:23:49.539Z"
   },
   {
    "duration": 275,
    "start_time": "2025-04-14T03:28:30.188Z"
   },
   {
    "duration": 282,
    "start_time": "2025-04-14T03:29:04.862Z"
   },
   {
    "duration": 270,
    "start_time": "2025-04-14T03:29:15.444Z"
   },
   {
    "duration": 5,
    "start_time": "2025-04-14T03:44:10.210Z"
   },
   {
    "duration": 166,
    "start_time": "2025-04-15T01:37:37.895Z"
   },
   {
    "duration": 2555,
    "start_time": "2025-04-15T01:39:57.366Z"
   },
   {
    "duration": 436,
    "start_time": "2025-04-15T01:39:59.923Z"
   },
   {
    "duration": 50,
    "start_time": "2025-04-15T01:40:00.363Z"
   },
   {
    "duration": 11,
    "start_time": "2025-04-15T01:40:00.416Z"
   },
   {
    "duration": 8,
    "start_time": "2025-04-15T01:40:00.428Z"
   },
   {
    "duration": 7,
    "start_time": "2025-04-15T01:40:00.438Z"
   },
   {
    "duration": 63,
    "start_time": "2025-04-15T01:40:00.447Z"
   },
   {
    "duration": 8,
    "start_time": "2025-04-15T01:40:00.512Z"
   },
   {
    "duration": 5,
    "start_time": "2025-04-15T01:40:00.523Z"
   },
   {
    "duration": 218,
    "start_time": "2025-04-15T01:40:00.531Z"
   },
   {
    "duration": 438,
    "start_time": "2025-04-15T01:40:00.751Z"
   },
   {
    "duration": 111,
    "start_time": "2025-04-15T01:40:01.191Z"
   },
   {
    "duration": 178,
    "start_time": "2025-04-15T01:40:01.306Z"
   },
   {
    "duration": 409,
    "start_time": "2025-04-15T01:40:01.486Z"
   },
   {
    "duration": 312,
    "start_time": "2025-04-15T01:40:01.897Z"
   },
   {
    "duration": 208,
    "start_time": "2025-04-15T01:40:02.211Z"
   },
   {
    "duration": 13,
    "start_time": "2025-04-15T01:40:02.421Z"
   },
   {
    "duration": 80,
    "start_time": "2025-04-15T01:40:02.435Z"
   },
   {
    "duration": 0,
    "start_time": "2025-04-15T01:40:02.517Z"
   },
   {
    "duration": 0,
    "start_time": "2025-04-15T01:40:02.518Z"
   },
   {
    "duration": 0,
    "start_time": "2025-04-15T01:40:02.519Z"
   },
   {
    "duration": 0,
    "start_time": "2025-04-15T01:40:02.521Z"
   },
   {
    "duration": 0,
    "start_time": "2025-04-15T01:40:02.521Z"
   },
   {
    "duration": 0,
    "start_time": "2025-04-15T01:40:02.523Z"
   },
   {
    "duration": 1,
    "start_time": "2025-04-15T01:40:02.523Z"
   },
   {
    "duration": 0,
    "start_time": "2025-04-15T01:40:02.525Z"
   },
   {
    "duration": 0,
    "start_time": "2025-04-15T01:40:02.526Z"
   },
   {
    "duration": 196,
    "start_time": "2025-04-15T01:42:31.154Z"
   },
   {
    "duration": 107,
    "start_time": "2025-04-15T01:46:35.255Z"
   },
   {
    "duration": 345,
    "start_time": "2025-04-15T01:47:46.194Z"
   },
   {
    "duration": 97,
    "start_time": "2025-04-15T01:48:03.342Z"
   },
   {
    "duration": 289,
    "start_time": "2025-04-15T01:49:06.101Z"
   },
   {
    "duration": 424,
    "start_time": "2025-04-15T01:50:14.925Z"
   },
   {
    "duration": 24,
    "start_time": "2025-04-15T01:52:35.593Z"
   },
   {
    "duration": 185,
    "start_time": "2025-04-15T01:53:07.104Z"
   },
   {
    "duration": 13,
    "start_time": "2025-04-15T01:54:01.954Z"
   },
   {
    "duration": 3,
    "start_time": "2025-04-15T01:54:30.073Z"
   },
   {
    "duration": 75,
    "start_time": "2025-04-15T01:55:04.857Z"
   },
   {
    "duration": 12,
    "start_time": "2025-04-15T01:56:06.997Z"
   },
   {
    "duration": 11,
    "start_time": "2025-04-15T01:56:23.989Z"
   },
   {
    "duration": 148,
    "start_time": "2025-04-15T01:56:47.730Z"
   },
   {
    "duration": 45,
    "start_time": "2025-04-15T01:56:58.341Z"
   },
   {
    "duration": 4,
    "start_time": "2025-04-15T01:57:13.300Z"
   },
   {
    "duration": 250,
    "start_time": "2025-04-15T01:57:41.757Z"
   },
   {
    "duration": 19,
    "start_time": "2025-04-15T01:57:50.974Z"
   },
   {
    "duration": 68,
    "start_time": "2025-04-15T01:58:22.383Z"
   },
   {
    "duration": 947,
    "start_time": "2025-04-15T01:58:26.172Z"
   },
   {
    "duration": 14,
    "start_time": "2025-04-15T02:02:17.803Z"
   },
   {
    "duration": 22,
    "start_time": "2025-04-15T02:02:46.878Z"
   },
   {
    "duration": 548,
    "start_time": "2025-04-15T02:07:47.148Z"
   },
   {
    "duration": 6,
    "start_time": "2025-04-15T02:09:28.370Z"
   },
   {
    "duration": 4,
    "start_time": "2025-04-15T02:09:53.763Z"
   },
   {
    "duration": 4,
    "start_time": "2025-04-15T02:10:14.980Z"
   },
   {
    "duration": 640,
    "start_time": "2025-04-15T02:11:13.659Z"
   },
   {
    "duration": 13,
    "start_time": "2025-04-15T02:12:30.849Z"
   },
   {
    "duration": 316,
    "start_time": "2025-04-15T02:12:50.483Z"
   },
   {
    "duration": 220,
    "start_time": "2025-04-15T02:14:36.497Z"
   },
   {
    "duration": 388,
    "start_time": "2025-04-15T02:15:03.702Z"
   }
  ],
  "kernelspec": {
   "display_name": "Python 3 (ipykernel)",
   "language": "python",
   "name": "python3"
  },
  "language_info": {
   "codemirror_mode": {
    "name": "ipython",
    "version": 3
   },
   "file_extension": ".py",
   "mimetype": "text/x-python",
   "name": "python",
   "nbconvert_exporter": "python",
   "pygments_lexer": "ipython3",
   "version": "3.12.7"
  },
  "toc": {
   "base_numbering": 1,
   "nav_menu": {},
   "number_sections": true,
   "sideBar": true,
   "skip_h1_title": true,
   "title_cell": "Table of Contents",
   "title_sidebar": "Contents",
   "toc_cell": false,
   "toc_position": {
    "height": "calc(100% - 180px)",
    "left": "10px",
    "top": "150px",
    "width": "406.4px"
   },
   "toc_section_display": true,
   "toc_window_display": true
  }
 },
 "nbformat": 4,
 "nbformat_minor": 4
}
